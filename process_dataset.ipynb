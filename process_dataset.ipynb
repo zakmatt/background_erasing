{
 "cells": [
  {
   "cell_type": "code",
   "execution_count": 60,
   "metadata": {},
   "outputs": [],
   "source": [
    "import cv2 as cv\n",
    "import glob\n",
    "import numpy as np\n",
    "import os\n",
    "import pylab\n",
    "import skimage.io as io\n",
    "\n",
    "from pycocotools.coco import COCO\n",
    "from shutil import copyfile"
   ]
  },
  {
   "cell_type": "code",
   "execution_count": 61,
   "metadata": {},
   "outputs": [],
   "source": [
    "dataDir='/Volumes/UNTITLED'\n",
    "dataType='train2017'\n",
    "annFile='{}/annotations/instances_{}.json'.format(dataDir,dataType)\n",
    "filtered_data = '/Users/matt/masters_thesis/filtered_data'\n",
    "save_data_path = '/Users/matt/masters_thesis/resized_data'"
   ]
  },
  {
   "cell_type": "code",
   "execution_count": 64,
   "metadata": {},
   "outputs": [
    {
     "name": "stdout",
     "output_type": "stream",
     "text": [
      "loading annotations into memory...\n",
      "Done (t=93.00s)\n",
      "creating index...\n",
      "index created!\n"
     ]
    }
   ],
   "source": [
    "# initialize COCO api for instance annotations# initi \n",
    "coco=COCO(annFile)"
   ]
  },
  {
   "cell_type": "code",
   "execution_count": 65,
   "metadata": {},
   "outputs": [],
   "source": [
    "# get all images containing person\n",
    "catIds = coco.getCatIds(catNms=['person'])"
   ]
  },
  {
   "cell_type": "code",
   "execution_count": 66,
   "metadata": {},
   "outputs": [],
   "source": [
    "# get images ids\n",
    "imgIds = coco.getImgIds(catIds=catIds)\n",
    "# get images\n",
    "imgs = coco.loadImgs(imgIds)"
   ]
  },
  {
   "cell_type": "code",
   "execution_count": 68,
   "metadata": {},
   "outputs": [],
   "source": [
    "filtered_imgs = [f for f in glob.glob('{}/*.jpg'.format(filtered_data)) if '_mask' not in f]"
   ]
  },
  {
   "cell_type": "code",
   "execution_count": 70,
   "metadata": {},
   "outputs": [],
   "source": [
    "filtered_imgs = list(map(lambda x: x.split('/')[-1], filtered_imgs))"
   ]
  },
  {
   "cell_type": "code",
   "execution_count": 71,
   "metadata": {},
   "outputs": [],
   "source": [
    "imgs = list(filter(lambda x: x['file_name'] in filtered_imgs, imgs))"
   ]
  },
  {
   "cell_type": "code",
   "execution_count": 72,
   "metadata": {},
   "outputs": [],
   "source": [
    "def map_paths(file_name):\n",
    "    filtered_path = os.path.join(filtered_data, file_name)\n",
    "    filtered_mask = os.path.join(filtered_data, '{}_mask.jpg'.format(file_name.split('.')[0]))\n",
    "    save_path = os.path.join(save_data_path, file_name)\n",
    "    mask_name = os.path.join(save_data_path, '{}_mask.jpg'.format(file_name.split('.')[0]))\n",
    "    return filtered_path, filtered_mask, save_path, mask_name"
   ]
  },
  {
   "cell_type": "code",
   "execution_count": 73,
   "metadata": {},
   "outputs": [],
   "source": [
    "def rescale(image):\n",
    "    image = image.astype('float32')\n",
    "    current_min = np.min(image)\n",
    "    current_max = np.max(image)\n",
    "    image = (image - current_min)/(current_max - current_min) * 255\n",
    "    return image"
   ]
  },
  {
   "cell_type": "code",
   "execution_count": 74,
   "metadata": {},
   "outputs": [],
   "source": [
    "def resize_filtered(file_name):\n",
    "    img = cv.imread(filename=file_name).astype(np.float32)\n",
    "    img = cv.resize(img,(224, 224), interpolation = cv.INTER_CUBIC)\n",
    "    return rescale(img).astype(np.uint8)"
   ]
  },
  {
   "cell_type": "code",
   "execution_count": 112,
   "metadata": {},
   "outputs": [],
   "source": [
    "for img in imgs:\n",
    "    file_name = img['file_name']\n",
    "    annIds = coco.getAnnIds(imgIds=img['id'], catIds=catIds, iscrowd=None)\n",
    "    anns = coco.loadAnns(annIds)\n",
    "    max_ann = max(anns, key=lambda x: x['area'])\n",
    "    mask = coco.annToMask(max_ann)\n",
    "    object_perc = (mask==1).sum()/len(mask.flatten())\n",
    "    \n",
    "    if object_perc < 0.3 or object_perc > 0.7 or (len(anns) > 2 and object_perc < 0.4):\n",
    "        continue\n",
    "        \n",
    "    \n",
    "    filtered_file, filtered_mask, resized_file_path, mask_path = map_paths(img['file_name'])\n",
    "    \n",
    "    img_masked = cv.imread(filename=filtered_file).astype(np.uint8)\n",
    "    idx = (mask == 0)\n",
    "    img_masked[idx] = 0\n",
    "    \n",
    "    filtered_file, filtered_mask, resized_file_path, mask_path = map_paths(img['file_name'])\n",
    "    cv.imwrite(filtered_mask, img_masked)\n",
    "    \n",
    "    resized_img = resize_filtered(filtered_file)\n",
    "    resized_mask = rescale(\n",
    "        cv.resize(img_masked, (224, 224), interpolation = cv.INTER_CUBIC)\n",
    "    ).astype(np.uint8)\n",
    "    \n",
    "    cv.imwrite(resized_file_path, resized_img)\n",
    "    cv.imwrite(mask_path, resized_mask)"
   ]
  }
 ],
 "metadata": {
  "kernelspec": {
   "display_name": "Python 3",
   "language": "python",
   "name": "python3"
  },
  "language_info": {
   "codemirror_mode": {
    "name": "ipython",
    "version": 3
   },
   "file_extension": ".py",
   "mimetype": "text/x-python",
   "name": "python",
   "nbconvert_exporter": "python",
   "pygments_lexer": "ipython3",
   "version": "3.6.3"
  }
 },
 "nbformat": 4,
 "nbformat_minor": 2
}
