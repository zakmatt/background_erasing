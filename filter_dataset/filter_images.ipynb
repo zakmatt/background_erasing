{
 "cells": [
  {
   "cell_type": "code",
   "execution_count": 1,
   "metadata": {},
   "outputs": [],
   "source": [
    "%matplotlib inline\n",
    "import cv2 as cv\n",
    "import matplotlib.pyplot as plt\n",
    "import numpy as np\n",
    "import os\n",
    "import pylab\n",
    "import skimage.io as io\n",
    "\n",
    "from pycocotools.coco import COCO\n",
    "from shutil import copyfile\n",
    "pylab.rcParams['figure.figsize'] = (8.0, 10.0)"
   ]
  },
  {
   "cell_type": "code",
   "execution_count": 67,
   "metadata": {},
   "outputs": [],
   "source": [
    "data_dir='/Users/matt/masters_thesis/dataset_info'\n",
    "data_type='train2017'\n",
    "ann_file='{}/annotations/instances_{}.json'.format(data_dir, data_type)\n",
    "filtered_dataset = '/Users/matt/masters_thesis/dataset_info/dataset/'\n",
    "save_data_path = '/Users/matt/masters_thesis/dataset/dataset'"
   ]
  },
  {
   "cell_type": "code",
   "execution_count": 68,
   "metadata": {},
   "outputs": [],
   "source": [
    "if not os.path.exists(save_data_path):\n",
    "    os.makedirs(save_data_path)"
   ]
  },
  {
   "cell_type": "code",
   "execution_count": 69,
   "metadata": {},
   "outputs": [
    {
     "name": "stdout",
     "output_type": "stream",
     "text": [
      "loading annotations into memory...\n",
      "Done (t=36.17s)\n",
      "creating index...\n",
      "index created!\n"
     ]
    }
   ],
   "source": [
    "# initialize COCO api for instance annotations# initi \n",
    "coco=COCO(ann_file)"
   ]
  },
  {
   "cell_type": "code",
   "execution_count": 70,
   "metadata": {},
   "outputs": [],
   "source": [
    "# get all images containing person\n",
    "cat_ids = coco.getCatIds(catNms=['person'])"
   ]
  },
  {
   "cell_type": "code",
   "execution_count": 71,
   "metadata": {},
   "outputs": [],
   "source": [
    "# get images ids\n",
    "img_ids = coco.getImgIds(catIds=cat_ids)\n",
    "# get images\n",
    "imgs = coco.loadImgs(img_ids)"
   ]
  },
  {
   "cell_type": "code",
   "execution_count": 72,
   "metadata": {},
   "outputs": [],
   "source": [
    "def map_paths(file_name):\n",
    "    dataset_path = os.path.join(filtered_dataset, file_name)\n",
    "    save_path = os.path.join(save_data_path, file_name)\n",
    "    mask_name = os.path.join(save_data_path, '{}_mask.jpg'.format(file_name.split('.')[0]))\n",
    "    return dataset_path, save_path, mask_name"
   ]
  },
  {
   "cell_type": "code",
   "execution_count": 74,
   "metadata": {},
   "outputs": [],
   "source": [
    "for img in imgs:\n",
    "    ann_ids = coco.getAnnIds(imgIds=img['id'], catIds=cat_ids, iscrowd=None)\n",
    "    anns = coco.loadAnns(ann_ids)\n",
    "    final_mask = None\n",
    "    for ann in anns:\n",
    "        mask = coco.annToMask(ann)\n",
    "        if final_mask is None:\n",
    "            final_mask = mask\n",
    "        else:\n",
    "            final_mask += mask\n",
    "    \n",
    "    #rescale to 0-255\n",
    "    final_mask *= 255\n",
    "    from_path, to_path, mask_path = map_paths(img['file_name'])\n",
    "    if not os.path.isfile(from_path):\n",
    "        continue\n",
    "    try:\n",
    "        copyfile(from_path, to_path)\n",
    "        cv.imwrite(mask_path, final_mask)\n",
    "    except:\n",
    "        print('Could not copy: {}'.format(from_path))\n",
    "    "
   ]
  },
  {
   "cell_type": "code",
   "execution_count": 18,
   "metadata": {},
   "outputs": [],
   "source": [
    "annIds = coco.getAnnIds(imgIds=imgs[0]['id'], catIds=catIds, iscrowd=None)\n",
    "anns = coco.loadAnns(annIds)"
   ]
  },
  {
   "cell_type": "code",
   "execution_count": 19,
   "metadata": {},
   "outputs": [
    {
     "data": {
      "text/plain": [
       "0.008006756806206087"
      ]
     },
     "execution_count": 19,
     "metadata": {},
     "output_type": "execute_result"
    }
   ],
   "source": [
    "float(anns[0]['area'])/(427*640)"
   ]
  },
  {
   "cell_type": "code",
   "execution_count": 20,
   "metadata": {},
   "outputs": [
    {
     "data": {
      "text/plain": [
       "{'coco_url': 'http://images.cocodataset.org/val2017/000000532481.jpg',\n",
       " 'date_captured': '2013-11-20 16:28:24',\n",
       " 'file_name': '000000532481.jpg',\n",
       " 'flickr_url': 'http://farm7.staticflickr.com/6048/5915494136_da3cfa7c5a_z.jpg',\n",
       " 'height': 426,\n",
       " 'id': 532481,\n",
       " 'license': 3,\n",
       " 'width': 640}"
      ]
     },
     "execution_count": 20,
     "metadata": {},
     "output_type": "execute_result"
    }
   ],
   "source": [
    "imgs[0]"
   ]
  },
  {
   "cell_type": "code",
   "execution_count": 60,
   "metadata": {},
   "outputs": [],
   "source": [
    "img = list(filter(lambda x: x['file_name'] == '000000500565.jpg', imgs))[0]"
   ]
  },
  {
   "cell_type": "code",
   "execution_count": 61,
   "metadata": {},
   "outputs": [],
   "source": [
    "ann_ids = coco.getAnnIds(imgIds=img['id'], catIds=cat_ids, iscrowd=None)\n",
    "anns = coco.loadAnns(ann_ids)"
   ]
  },
  {
   "cell_type": "code",
   "execution_count": 62,
   "metadata": {},
   "outputs": [],
   "source": [
    "final_mask = None\n",
    "for ann in anns:\n",
    "    mask = coco.annToMask(ann)\n",
    "    if final_mask is None:\n",
    "        final_mask = mask\n",
    "    else:\n",
    "        final_mask += mask"
   ]
  },
  {
   "cell_type": "code",
   "execution_count": 63,
   "metadata": {},
   "outputs": [],
   "source": [
    "final_mask *= 255"
   ]
  },
  {
   "cell_type": "code",
   "execution_count": 64,
   "metadata": {},
   "outputs": [
    {
     "data": {
      "text/plain": [
       "<matplotlib.image.AxesImage at 0x11a2ee5f8>"
      ]
     },
     "execution_count": 64,
     "metadata": {},
     "output_type": "execute_result"
    },
    {
     "data": {
      "image/png": "[encoded data removed]",
      "text/plain": [
       "<matplotlib.figure.Figure at 0x121766e10>"
      ]
     },
     "metadata": {},
     "output_type": "display_data"
    }
   ],
   "source": [
    "plt.imshow(final_mask.astype(np.uint8), cmap='gray')"
   ]
  },
  {
   "cell_type": "code",
   "execution_count": null,
   "metadata": {},
   "outputs": [],
   "source": []
  }
 ],
 "metadata": {
  "kernelspec": {
   "display_name": "Python 3",
   "language": "python",
   "name": "python3"
  },
  "language_info": {
   "codemirror_mode": {
    "name": "ipython",
    "version": 3
   },
   "file_extension": ".py",
   "mimetype": "text/x-python",
   "name": "python",
   "nbconvert_exporter": "python",
   "pygments_lexer": "ipython3",
   "version": "3.6.3"
  }
 },
 "nbformat": 4,
 "nbformat_minor": 2
}
