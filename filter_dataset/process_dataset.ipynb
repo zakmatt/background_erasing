{
 "cells": [
  {
   "cell_type": "code",
   "execution_count": 20,
   "metadata": {},
   "outputs": [],
   "source": [
    "import cv2 as cv\n",
    "import glob\n",
    "import numpy as np\n",
    "import os"
   ]
  },
  {
   "cell_type": "code",
   "execution_count": 21,
   "metadata": {},
   "outputs": [],
   "source": [
    "data_dir = '/Users/matt/masters_thesis/dataset/val_dataset'\n",
    "save_dir = '/Users/matt/masters_thesis/dataset/val_dataset_256'"
   ]
  },
  {
   "cell_type": "code",
   "execution_count": 22,
   "metadata": {},
   "outputs": [],
   "source": [
    "if not os.path.exists(save_dir):\n",
    "    os.makedirs(save_dir)"
   ]
  },
  {
   "cell_type": "code",
   "execution_count": 23,
   "metadata": {},
   "outputs": [],
   "source": [
    "imgs = [f for f in glob.glob('{}/*.jpg'.format(data_dir))]"
   ]
  },
  {
   "cell_type": "code",
   "execution_count": 24,
   "metadata": {},
   "outputs": [],
   "source": [
    "def rescale(image):\n",
    "    image = image.astype('float32')\n",
    "    current_min = np.min(image)\n",
    "    current_max = np.max(image)\n",
    "    image = (image - current_min)/(current_max - current_min) * 255\n",
    "    return image"
   ]
  },
  {
   "cell_type": "code",
   "execution_count": 25,
   "metadata": {},
   "outputs": [],
   "source": [
    "def resize(file_name):\n",
    "    img = cv.imread(filename=file_name)#.astype(np.float32)\n",
    "    img = cv.resize(img,(256, 256), interpolation = cv.INTER_CUBIC)\n",
    "    return img"
   ]
  },
  {
   "cell_type": "code",
   "execution_count": 26,
   "metadata": {},
   "outputs": [],
   "source": [
    "for img in imgs:\n",
    "    resized_file_path = os.path.join(save_dir, img.split('/')[-1])\n",
    "    resized_img = resize(img)\n",
    "    cv.imwrite(resized_file_path, resized_img)"
   ]
  },
  {
   "cell_type": "code",
   "execution_count": null,
   "metadata": {},
   "outputs": [],
   "source": []
  }
 ],
 "metadata": {
  "kernelspec": {
   "display_name": "Python 3",
   "language": "python",
   "name": "python3"
  },
  "language_info": {
   "codemirror_mode": {
    "name": "ipython",
    "version": 3
   },
   "file_extension": ".py",
   "mimetype": "text/x-python",
   "name": "python",
   "nbconvert_exporter": "python",
   "pygments_lexer": "ipython3",
   "version": "3.6.3"
  }
 },
 "nbformat": 4,
 "nbformat_minor": 2
}
