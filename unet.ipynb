{
 "cells": [
  {
   "cell_type": "code",
   "execution_count": 3,
   "metadata": {},
   "outputs": [],
   "source": [
    "import cv2 as cv\n",
    "import glob\n",
    "import matplotlib.pyplot as plt\n",
    "import numpy as np\n",
    "%matplotlib inline"
   ]
  },
  {
   "cell_type": "code",
   "execution_count": 21,
   "metadata": {},
   "outputs": [],
   "source": [
    "from keras.models import Model\n",
    "from keras.layers import Input, concatenate, Convolution2D, MaxPooling2D, UpSampling2D,Lambda\n",
    "from keras.optimizers import Adam\n",
    "from keras.callbacks import ModelCheckpoint, LearningRateScheduler\n",
    "from keras import backend as K"
   ]
  },
  {
   "cell_type": "code",
   "execution_count": 5,
   "metadata": {},
   "outputs": [],
   "source": [
    "data_dir = '/Users/matt/masters_thesis/resized_data'"
   ]
  },
  {
   "cell_type": "code",
   "execution_count": 16,
   "metadata": {},
   "outputs": [],
   "source": [
    "def load_files_names(data_dir):\n",
    "    files = [f for f in glob.glob('{}/*.jpg'.format(data_dir)) if '_mask' not in f]\n",
    "    files = list(\n",
    "        map(\n",
    "            lambda f_name: (f_name, '{0}_mask.jpg'.format(f_name.split('.')[0])),\n",
    "            files\n",
    "        )\n",
    "    )\n",
    "    return files"
   ]
  },
  {
   "cell_type": "code",
   "execution_count": 17,
   "metadata": {},
   "outputs": [],
   "source": [
    "data_files = load_files_names(data_dir)"
   ]
  },
  {
   "cell_type": "code",
   "execution_count": null,
   "metadata": {},
   "outputs": [],
   "source": [
    "class BatchGenerator(object):\n",
    "    \"\"\"Class generating image batches\"\"\"\n",
    "    \n",
    "    def __init__(self, data_dir):\n",
    "        self.train_batch_pos = 0\n",
    "        self.test_batch_pos = 0\n",
    "        pass\n",
    "    \n",
    "    def load_data(self):\n",
    "        pass\n",
    "    \n",
    "    @property\n",
    "    def train_batch(self):\n",
    "        pass\n",
    "    \n",
    "    @property\n",
    "    def test_batch(self):\n",
    "        pass"
   ]
  },
  {
   "cell_type": "code",
   "execution_count": 20,
   "metadata": {},
   "outputs": [],
   "source": [
    "smooth = 1.\n",
    "def IOU_calc(y_true, y_false):\n",
    "    y_true_f = K.flatten(y_true)\n",
    "    y_false_f = K.flatten(y_false)\n",
    "    intersection = K.sum(y_true_f * y_false_f)\n",
    "    return 2*(intersection + smooth) / (K.sum(y_true_f) + K.sum(y_pred_f) + smooth)\n",
    "\n",
    "def IOU_loss(y_true, y_false):\n",
    "    return -1 * IOU_calc(y_true, y_false)\n",
    "    "
   ]
  },
  {
   "cell_type": "code",
   "execution_count": 22,
   "metadata": {},
   "outputs": [],
   "source": [
    "def unet_prototype(img_rows, img_cols):\n",
    "    inputs = Input(shape=(img_rows, img_cols, 3))\n",
    "    \n",
    "    conv1 = Convolution2D(filters=8, kernel_size=(3, 3), activation='relu', padding='same')(inputs)\n",
    "    conv1 = Convolution2D(filters=8, kernel_size=(3, 3), activation='relu', padding='same')(conv1)\n",
    "    pool1 = MaxPooling2D(pool_size=(2, 2))(conv1)\n",
    "    \n",
    "    conv2 = Convolution2D(filters=16, kernel_size=(3, 3), activation='relu', padding='same')(pool1)\n",
    "    conv2 = Convolution2D(filters=16, kernel_size=(3, 3), activation='relu', padding='same')(conv2)\n",
    "    pool2 = MaxPooling2D(pool_size=(2, 2))(conv2)\n",
    "    \n",
    "    conv3 = Convolution2D(filters=32, kernel_size=(3, 3), activation='relu', padding='same')(pool2)\n",
    "    conv3 = Convolution2D(filters=32, kernel_size=(3, 3), activation='relu', padding='same')(conv3)\n",
    "    pool3 = MaxPooling2D(pool_size=(2, 2))(conv3)\n",
    "    \n",
    "    conv4 = Convolution2D(filters=64, kernel_size=(3, 3), activation='relu', padding='same')(pool3)\n",
    "    conv4 = Convolution2D(filters=64, kernel_size=(3, 3), activation='relu', padding='same')(conv4)\n",
    "    pool4 = MaxPooling2D(pool_size=(2, 2))(conv4)\n",
    "    \n",
    "    conv5 = Convolution2D(filters=128, kernel_size=(3, 3), activation='relu', padding='same')(pool4)\n",
    "    conv5 = Convolution2D(filters=128, kernel_size=(3, 3), activation='relu', padding='same')(conv5)\n",
    "    \n",
    "    up6 = concatenate([UpSampling2D(size=(2, 2))(conv5), conv4], axis=-1)\n",
    "    conv6 = Convolution2D(filters=64, kernel_size=(3, 3), activation='relu', padding='same')(up6)\n",
    "    conv6 = Convolution2D(filters=64, kernel_size=(3, 3), activation='relu', padding='same')(conv6)\n",
    "    \n",
    "    up7 = concatenate([UpSampling2D(size=(2, 2))(conv6), conv3], axis=-1)\n",
    "    conv7 = Convolution2D(filters=32, kernel_size=(3, 3), activation='relu', padding='same')(up7)\n",
    "    conv7 = Convolution2D(filters=32, kernel_size=(3, 3), activation='relu', padding='same')(conv7)\n",
    "    \n",
    "    up8 = concatenate([UpSampling2D(size=(2, 2))(conv7), conv2], axis=-1)\n",
    "    conv8 = Convolution2D(filters=16, kernel_size=(3, 3), activation='relu', padding='same')(up8)\n",
    "    conv8 = Convolution2D(filters=16, kernel_size=(3, 3), activation='relu', padding='same')(conv8)\n",
    "    \n",
    "    up9 = concatenate([UpSampling2D(size=(2, 2))(conv8), conv1], axis=-1)\n",
    "    conv9 = Convolution2D(filters=8, kernel_size=(3, 3), activation='relu', padding='same')(up9)\n",
    "    conv9 = Convolution2D(filters=8, kernel_size=(3, 3), activation='relu', padding='same')(conv9)\n",
    "    \n",
    "    conv10 = Convolution2D(filters=1, kernel_size=(1, 1), activation='sigmoid')(conv9)\n",
    "    \n",
    "    model = Model(inputs=inputs, outputs=conv10)\n",
    "    \n",
    "    return model"
   ]
  },
  {
   "cell_type": "code",
   "execution_count": null,
   "metadata": {},
   "outputs": [],
   "source": []
  }
 ],
 "metadata": {
  "kernelspec": {
   "display_name": "Python 3",
   "language": "python",
   "name": "python3"
  },
  "language_info": {
   "codemirror_mode": {
    "name": "ipython",
    "version": 3
   },
   "file_extension": ".py",
   "mimetype": "text/x-python",
   "name": "python",
   "nbconvert_exporter": "python",
   "pygments_lexer": "ipython3",
   "version": "3.6.3"
  }
 },
 "nbformat": 4,
 "nbformat_minor": 2
}
