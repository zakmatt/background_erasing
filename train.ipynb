{
 "cells": [
  {
   "cell_type": "code",
   "execution_count": 1,
   "metadata": {},
   "outputs": [],
   "source": [
    "%load_ext autoreload\n",
    "%autoreload 2"
   ]
  },
  {
   "cell_type": "code",
   "execution_count": 91,
   "metadata": {},
   "outputs": [],
   "source": [
    "import numpy as np\n",
    "import os\n",
    "\n",
    "from keras.callbacks import ModelCheckpoint, Callback\n",
    "from keras.optimizers import Adam\n",
    "from keras.utils import to_categorical\n",
    "\n",
    "from networks.unet import Unet\n",
    "\n",
    "from utils.batch_generator import BatchGenerator"
   ]
  },
  {
   "cell_type": "code",
   "execution_count": 83,
   "metadata": {},
   "outputs": [],
   "source": [
    "import pandas as pd"
   ]
  },
  {
   "cell_type": "code",
   "execution_count": 84,
   "metadata": {},
   "outputs": [],
   "source": [
    "BATCH_SIZE = 1\n",
    "VAL_BATCH = 5\n",
    "IMG_ROWS, IMG_COLS = 256, 256\n",
    "INITIAL_EPOCH = 0\n",
    "NB_EPOCHS = 3\n",
    "SAVE_MODEL_DIR = './models/'\n",
    "RESULTS_FILE = 'results.txt'\n",
    "STEPS_PER_EPOCH = 2"
   ]
  },
  {
   "cell_type": "code",
   "execution_count": 30,
   "metadata": {},
   "outputs": [],
   "source": [
    "def train(data_dir, val_dir, results_file, save_model_dir, initial_epoch=0):\n",
    "    batch_gen = BatchGenerator(\n",
    "        data_dir=data_dir, val_dir=val_dir, batch_size=BATCH_SIZE\n",
    "    )\n",
    "    batch_gen.load_data()\n",
    "    model = DCGAN(IMG_ROWS, IMG_COLS, batch_gen,\n",
    "                  save_model_dir, results_file, VAL_BATCH)\n",
    "\n",
    "    if initial_epoch>0:\n",
    "        model.load_weights(initial_epoch)\n",
    "\n",
    "    model.train(initial_epoch, NB_EPOCHS, STEPS_PER_EPOCH)"
   ]
  },
  {
   "cell_type": "code",
   "execution_count": 23,
   "metadata": {},
   "outputs": [],
   "source": [
    "LUNGS_IMGS = './dataset/lungs_segmentation/lungs_resized/'\n",
    "LUNGS_MASKS = './dataset/lungs_segmentation/masks_dilated_resized/'"
   ]
  },
  {
   "cell_type": "code",
   "execution_count": 24,
   "metadata": {},
   "outputs": [],
   "source": [
    "files = pd.read_csv('./dataset/lungs_segmentation/files_names.csv')"
   ]
  },
  {
   "cell_type": "code",
   "execution_count": 69,
   "metadata": {},
   "outputs": [],
   "source": [
    "files['image_path'] = ['{}{}'.format(LUNGS_IMGS, file_name) for file_name in files.file_name.values]\n",
    "files['mask_path'] = ['{}{}'.format(LUNGS_MASKS, file_name) for file_name in files.file_name.values]"
   ]
  },
  {
   "cell_type": "code",
   "execution_count": 70,
   "metadata": {},
   "outputs": [
    {
     "data": {
      "text/html": [
       "<div>\n",
       "<style scoped>\n",
       "    .dataframe tbody tr th:only-of-type {\n",
       "        vertical-align: middle;\n",
       "    }\n",
       "\n",
       "    .dataframe tbody tr th {\n",
       "        vertical-align: top;\n",
       "    }\n",
       "\n",
       "    .dataframe thead th {\n",
       "        text-align: right;\n",
       "    }\n",
       "</style>\n",
       "<table border=\"1\" class=\"dataframe\">\n",
       "  <thead>\n",
       "    <tr style=\"text-align: right;\">\n",
       "      <th></th>\n",
       "      <th>file_name</th>\n",
       "      <th>image_path</th>\n",
       "      <th>mask_path</th>\n",
       "    </tr>\n",
       "  </thead>\n",
       "  <tbody>\n",
       "    <tr>\n",
       "      <th>0</th>\n",
       "      <td>MCUCXR_0023_0.png</td>\n",
       "      <td>./dataset/lungs_segmentation/lungs_resized/MCU...</td>\n",
       "      <td>./dataset/lungs_segmentation/masks_dilated_res...</td>\n",
       "    </tr>\n",
       "    <tr>\n",
       "      <th>1</th>\n",
       "      <td>CHNCXR_0286_0.png</td>\n",
       "      <td>./dataset/lungs_segmentation/lungs_resized/CHN...</td>\n",
       "      <td>./dataset/lungs_segmentation/masks_dilated_res...</td>\n",
       "    </tr>\n",
       "    <tr>\n",
       "      <th>2</th>\n",
       "      <td>CHNCXR_0022_0.png</td>\n",
       "      <td>./dataset/lungs_segmentation/lungs_resized/CHN...</td>\n",
       "      <td>./dataset/lungs_segmentation/masks_dilated_res...</td>\n",
       "    </tr>\n",
       "    <tr>\n",
       "      <th>3</th>\n",
       "      <td>CHNCXR_0067_0.png</td>\n",
       "      <td>./dataset/lungs_segmentation/lungs_resized/CHN...</td>\n",
       "      <td>./dataset/lungs_segmentation/masks_dilated_res...</td>\n",
       "    </tr>\n",
       "    <tr>\n",
       "      <th>4</th>\n",
       "      <td>CHNCXR_0572_1.png</td>\n",
       "      <td>./dataset/lungs_segmentation/lungs_resized/CHN...</td>\n",
       "      <td>./dataset/lungs_segmentation/masks_dilated_res...</td>\n",
       "    </tr>\n",
       "  </tbody>\n",
       "</table>\n",
       "</div>"
      ],
      "text/plain": [
       "           file_name                                         image_path  \\\n",
       "0  MCUCXR_0023_0.png  ./dataset/lungs_segmentation/lungs_resized/MCU...   \n",
       "1  CHNCXR_0286_0.png  ./dataset/lungs_segmentation/lungs_resized/CHN...   \n",
       "2  CHNCXR_0022_0.png  ./dataset/lungs_segmentation/lungs_resized/CHN...   \n",
       "3  CHNCXR_0067_0.png  ./dataset/lungs_segmentation/lungs_resized/CHN...   \n",
       "4  CHNCXR_0572_1.png  ./dataset/lungs_segmentation/lungs_resized/CHN...   \n",
       "\n",
       "                                           mask_path  \n",
       "0  ./dataset/lungs_segmentation/masks_dilated_res...  \n",
       "1  ./dataset/lungs_segmentation/masks_dilated_res...  \n",
       "2  ./dataset/lungs_segmentation/masks_dilated_res...  \n",
       "3  ./dataset/lungs_segmentation/masks_dilated_res...  \n",
       "4  ./dataset/lungs_segmentation/masks_dilated_res...  "
      ]
     },
     "execution_count": 70,
     "metadata": {},
     "output_type": "execute_result"
    }
   ],
   "source": [
    "files.head()"
   ]
  },
  {
   "cell_type": "code",
   "execution_count": 92,
   "metadata": {},
   "outputs": [],
   "source": [
    "batch_gen = BatchGenerator(\n",
    "    data=files, validate=0.2, batch_size=BATCH_SIZE\n",
    ")"
   ]
  },
  {
   "cell_type": "code",
   "execution_count": 93,
   "metadata": {},
   "outputs": [
    {
     "name": "stdout",
     "output_type": "stream",
     "text": [
      "Epoch 1/3\n",
      "2/2 [==============================] - 8s 4s/step - loss: 3.8361 - metric: 0.2053\n",
      "5/5 [==============================] - 1s 296ms/step\n",
      "5/5 [==============================] - 1s 151ms/step\n",
      "Epoch 2/3\n",
      "2/2 [==============================] - 3s 1s/step - loss: 3.7666 - metric: 0.2585\n",
      "5/5 [==============================] - 1s 179ms/step\n",
      "5/5 [==============================] - 1s 167ms/step\n",
      "Epoch 3/3\n",
      "2/2 [==============================] - 3s 1s/step - loss: 2.8853 - metric: 0.2184\n",
      "5/5 [==============================] - 1s 177ms/step\n",
      "5/5 [==============================] - 1s 178ms/step\n"
     ]
    }
   ],
   "source": [
    "model = Unet(IMG_ROWS, IMG_COLS, batch_gen,\n",
    "              SAVE_MODEL_DIR, RESULTS_FILE, VAL_BATCH)\n",
    "model.train(INITIAL_EPOCH, NB_EPOCHS, STEPS_PER_EPOCH)"
   ]
  },
  {
   "cell_type": "code",
   "execution_count": 34,
   "metadata": {},
   "outputs": [
    {
     "name": "stderr",
     "output_type": "stream",
     "text": [
      "/usr/local/lib/python3.6/site-packages/keras/engine/training.py:490: UserWarning: Discrepancy between trainable weights and collected trainable weights, did you set `model.trainable` without calling `model.compile` after ?\n",
      "  'Discrepancy between trainable weights and collected trainable'\n",
      "2018-10-21 01:19:00,357 - INFO - One image IOU: 0.523861\n"
     ]
    },
    {
     "name": "stdout",
     "output_type": "stream",
     "text": [
      "5/5 [==============================] - 13s 3s/step\n",
      "5/5 [==============================] - 2s 434ms/step\n"
     ]
    },
    {
     "name": "stderr",
     "output_type": "stream",
     "text": [
      "2018-10-21 01:20:13,890 - INFO - One image IOU: 0.273555\n"
     ]
    },
    {
     "name": "stdout",
     "output_type": "stream",
     "text": [
      "5/5 [==============================] - 2s 430ms/step\n",
      "5/5 [==============================] - 2s 425ms/step\n"
     ]
    }
   ],
   "source": [
    "train(data_dir, val_data_dir, results_file, save_model_dir, initial_epoch)"
   ]
  },
  {
   "cell_type": "code",
   "execution_count": null,
   "metadata": {},
   "outputs": [],
   "source": [
    "batch_gen = BatchGenerator(\n",
    "    data_dir=data_dir, val_data_dir=val_data_dir, batch_size=BATCH_SIZE\n",
    ")\n",
    "batch_gen.load_data()\n",
    "model = Unet.model(IMG_ROWS, IMG_COLS)\n",
    "model.compile(\n",
    "    optimizer=Adam(lr=1e-4),\n",
    "    loss=Unet.loss,\n",
    "    metrics=[Unet.metric]\n",
    ")"
   ]
  },
  {
   "cell_type": "code",
   "execution_count": null,
   "metadata": {},
   "outputs": [],
   "source": [
    "train_batch, val_batch = batch_gen.generate_test_batch(VAL_BATCH)"
   ]
  },
  {
   "cell_type": "code",
   "execution_count": null,
   "metadata": {},
   "outputs": [],
   "source": [
    "def IOU_loss(y_true, y_false):\n",
    "    def IOU_calc(y_true, y_false, smooth=1.):\n",
    "        y_true_f = y_true.flatten()\n",
    "        y_false_f = y_false.flatten()\n",
    "        intersection = np.sum(y_true_f * y_false_f)\n",
    "        return 2 * (intersection + smooth) / (np.sum(y_true_f) + np.sum(y_false_f) + smooth)\n",
    "\n",
    "    return 1 - IOU_calc(y_true, y_false)"
   ]
  },
  {
   "cell_type": "code",
   "execution_count": null,
   "metadata": {},
   "outputs": [],
   "source": []
  }
 ],
 "metadata": {
  "kernelspec": {
   "display_name": "Python 3",
   "language": "python",
   "name": "python3"
  },
  "language_info": {
   "codemirror_mode": {
    "name": "ipython",
    "version": 3
   },
   "file_extension": ".py",
   "mimetype": "text/x-python",
   "name": "python",
   "nbconvert_exporter": "python",
   "pygments_lexer": "ipython3",
   "version": "3.6.3"
  }
 },
 "nbformat": 4,
 "nbformat_minor": 2
}
