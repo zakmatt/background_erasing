{
 "cells": [
  {
   "cell_type": "code",
   "execution_count": 6,
   "metadata": {},
   "outputs": [],
   "source": [
    "%load_ext autoreload\n",
    "%autoreload 2"
   ]
  },
  {
   "cell_type": "code",
   "execution_count": 5,
   "metadata": {},
   "outputs": [
    {
     "name": "stderr",
     "output_type": "stream",
     "text": [
      "Using TensorFlow backend.\n"
     ]
    }
   ],
   "source": [
    "import numpy as np\n",
    "import os\n",
    "\n",
    "from keras.callbacks import ModelCheckpoint, Callback\n",
    "from keras.optimizers import Adam\n",
    "from keras.utils import to_categorical\n",
    "\n",
    "from networks.DCGAN import DCGAN\n",
    "\n",
    "from utils.batch_generator import BatchGenerator"
   ]
  },
  {
   "cell_type": "code",
   "execution_count": 7,
   "metadata": {},
   "outputs": [],
   "source": [
    "BATCH_SIZE = 1\n",
    "VAL_BATCH = 10\n",
    "IMG_ROWS, IMG_COLS = 256, 256\n",
    "NB_EPOCHS = 10\n",
    "STEPS_PER_EPOCH = 10"
   ]
  },
  {
   "cell_type": "code",
   "execution_count": 8,
   "metadata": {},
   "outputs": [],
   "source": [
    "def train(data_dir, val_dir, results_file, save_model_dir, model_info=None):\n",
    "    batch_gen = BatchGenerator(\n",
    "        data_dir=data_dir, val_dir=val_dir, batch_size=BATCH_SIZE\n",
    "    )\n",
    "    batch_gen.load_data()\n",
    "    model = DCGAN(IMG_ROWS, IMG_COLS, batch_gen,\n",
    "                  save_model_dir, results_file, VAL_BATCH)\n",
    "\n",
    "    initial_epoch = 0\n",
    "    if model_info:\n",
    "        weights_path = model_info['weights_path']\n",
    "        model.load_weights(weights_path)\n",
    "        if model_info['initial_epoch']:\n",
    "            initial_epoch = model_info['initial_epoch']\n",
    "\n",
    "    model.train(initial_epoch, NB_EPOCHS, STEPS_PER_EPOCH)"
   ]
  },
  {
   "cell_type": "code",
   "execution_count": 9,
   "metadata": {},
   "outputs": [],
   "source": [
    "data_dir = 'dataset/dataset_256/'\n",
    "val_data_dir = 'dataset/val_dataset_256/'\n",
    "results_file = 'results_data.txt'\n",
    "save_model_dir = 'results/dcgan/'"
   ]
  },
  {
   "cell_type": "code",
   "execution_count": null,
   "metadata": {},
   "outputs": [
    {
     "name": "stderr",
     "output_type": "stream",
     "text": [
      "/usr/local/lib/python3.6/site-packages/keras/engine/training.py:490: UserWarning: Discrepancy between trainable weights and collected trainable weights, did you set `model.trainable` without calling `model.compile` after ?\n",
      "  'Discrepancy between trainable weights and collected trainable'\n",
      "2018-10-19 15:14:28,414 - INFO - One image IOU: 0.221174\n"
     ]
    },
    {
     "name": "stdout",
     "output_type": "stream",
     "text": [
      "10/10 [==============================] - 4s 416ms/step\n",
      "10/10 [==============================] - 4s 398ms/step\n"
     ]
    },
    {
     "name": "stderr",
     "output_type": "stream",
     "text": [
      "2018-10-19 15:15:36,715 - INFO - One image IOU: 0.212247\n"
     ]
    }
   ],
   "source": [
    "train(data_dir, val_data_dir, results_file, save_model_dir)"
   ]
  },
  {
   "cell_type": "code",
   "execution_count": 43,
   "metadata": {},
   "outputs": [],
   "source": [
    "batch_gen = BatchGenerator(\n",
    "    data_dir=data_dir, val_data_dir=val_data_dir, batch_size=BATCH_SIZE\n",
    ")\n",
    "batch_gen.load_data()\n",
    "model = Unet.model(IMG_ROWS, IMG_COLS)\n",
    "model.compile(\n",
    "    optimizer=Adam(lr=1e-4),\n",
    "    loss=Unet.loss,\n",
    "    metrics=[Unet.metric]\n",
    ")"
   ]
  },
  {
   "cell_type": "code",
   "execution_count": 44,
   "metadata": {},
   "outputs": [],
   "source": [
    "train_batch, val_batch = batch_gen.generate_test_batch(VAL_BATCH)"
   ]
  },
  {
   "cell_type": "code",
   "execution_count": 7,
   "metadata": {},
   "outputs": [],
   "source": [
    "def IOU_loss(y_true, y_false):\n",
    "    def IOU_calc(y_true, y_false, smooth=1.):\n",
    "        y_true_f = y_true.flatten()\n",
    "        y_false_f = y_false.flatten()\n",
    "        intersection = np.sum(y_true_f * y_false_f)\n",
    "        return 2 * (intersection + smooth) / (np.sum(y_true_f) + np.sum(y_false_f) + smooth)\n",
    "\n",
    "    return 1 - IOU_calc(y_true, y_false)"
   ]
  }
 ],
 "metadata": {
  "kernelspec": {
   "display_name": "Python 3",
   "language": "python",
   "name": "python3"
  },
  "language_info": {
   "codemirror_mode": {
    "name": "ipython",
    "version": 3
   },
   "file_extension": ".py",
   "mimetype": "text/x-python",
   "name": "python",
   "nbconvert_exporter": "python",
   "pygments_lexer": "ipython3",
   "version": "3.6.3"
  }
 },
 "nbformat": 4,
 "nbformat_minor": 2
}
