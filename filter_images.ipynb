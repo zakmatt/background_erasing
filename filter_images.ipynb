{
 "cells": [
  {
   "cell_type": "code",
   "execution_count": 21,
   "metadata": {},
   "outputs": [],
   "source": [
    "%matplotlib inline\n",
    "import cv2 as cv\n",
    "import matplotlib.pyplot as plt\n",
    "import numpy as np\n",
    "import os\n",
    "import pylab\n",
    "import skimage.io as io\n",
    "\n",
    "from pycocotools.coco import COCO\n",
    "from shutil import copyfile\n",
    "pylab.rcParams['figure.figsize'] = (8.0, 10.0)"
   ]
  },
  {
   "cell_type": "code",
   "execution_count": 13,
   "metadata": {},
   "outputs": [],
   "source": [
    "dataDir='/Volumes/UNTITLED'\n",
    "dataType='train2017'\n",
    "annFile='{}/annotations/instances_{}.json'.format(dataDir,dataType)\n",
    "train_data_dir = '/Volumes/UNTITLED/train2017/'\n",
    "save_data_path = '/Volumes/UNTITLED/master_thesis/filtered_data/'"
   ]
  },
  {
   "cell_type": "code",
   "execution_count": 3,
   "metadata": {},
   "outputs": [
    {
     "name": "stdout",
     "output_type": "stream",
     "text": [
      "loading annotations into memory...\n",
      "Done (t=39.73s)\n",
      "creating index...\n",
      "index created!\n"
     ]
    }
   ],
   "source": [
    "# initialize COCO api for instance annotations# initi \n",
    "coco=COCO(annFile)"
   ]
  },
  {
   "cell_type": "code",
   "execution_count": 10,
   "metadata": {},
   "outputs": [
    {
     "data": {
      "text/plain": [
       "[1]"
      ]
     },
     "execution_count": 10,
     "metadata": {},
     "output_type": "execute_result"
    }
   ],
   "source": [
    "# get all images containing person\n",
    "catIds = coco.getCatIds(catNms=['person'])"
   ]
  },
  {
   "cell_type": "code",
   "execution_count": 6,
   "metadata": {},
   "outputs": [],
   "source": [
    "# get images ids\n",
    "imgIds = coco.getImgIds(catIds=catIds)\n",
    "# get images\n",
    "imgs = coco.loadImgs(imgIds)"
   ]
  },
  {
   "cell_type": "code",
   "execution_count": 7,
   "metadata": {},
   "outputs": [
    {
     "data": {
      "text/plain": [
       "[{'coco_url': 'http://images.cocodataset.org/train2017/000000262145.jpg',\n",
       "  'date_captured': '2013-11-20 02:07:55',\n",
       "  'file_name': '000000262145.jpg',\n",
       "  'flickr_url': 'http://farm8.staticflickr.com/7187/6967031859_5f08387bde_z.jpg',\n",
       "  'height': 427,\n",
       "  'id': 262145,\n",
       "  'license': 2,\n",
       "  'width': 640}]"
      ]
     },
     "execution_count": 7,
     "metadata": {},
     "output_type": "execute_result"
    }
   ],
   "source": [
    "imgs[:1]"
   ]
  },
  {
   "cell_type": "code",
   "execution_count": 16,
   "metadata": {},
   "outputs": [],
   "source": [
    "def map_paths(file_name):\n",
    "    train_path = os.path.join(train_data_dir, file_name)\n",
    "    save_path = os.path.join(save_data_path, file_name)\n",
    "    mask_name = os.path.join(save_data_path, '{}_mask.jpg'.format(file_name.split('.')[0]))\n",
    "    return train_path, save_path, mask_name"
   ]
  },
  {
   "cell_type": "code",
   "execution_count": 48,
   "metadata": {},
   "outputs": [],
   "source": [
    "for img in imgs:\n",
    "    annIds = coco.getAnnIds(imgIds=img['id'], catIds=catIds, iscrowd=None)\n",
    "    anns = coco.loadAnns(annIds)\n",
    "    max_ann = max(anns, key=lambda x: x['area'])\n",
    "    mask = coco.annToMask(max_ann)\n",
    "    object_perc = (mask==1).sum()/len(mask.flatten())\n",
    "    \n",
    "    if object_perc < 0.3 or object_perc > 0.7 or (len(anns) > 2 and object_perc < 0.4):\n",
    "        continue\n",
    "    \n",
    "    mask = coco.annToMask(max_ann)\n",
    "    #rescale to 0-255\n",
    "    mask *= 255\n",
    "    from_path, to_path, mask_path = map_paths(img['file_name'])\n",
    "    try:\n",
    "        copyfile(from_path, to_path)\n",
    "        #cv.imwrite(mask_path, mask)\n",
    "    except:\n",
    "        print('Could not copy: {}'.format(c_paths[0]))\n",
    "    "
   ]
  },
  {
   "cell_type": "code",
   "execution_count": 17,
   "metadata": {},
   "outputs": [
    {
     "data": {
      "text/plain": [
       "('/Volumes/UNTITLED/train2017/000000262145.jpg',\n",
       " '/Volumes/UNTITLED/master_thesis/filtered_data/000000262145.jpg',\n",
       " '/Volumes/UNTITLED/master_thesis/filtered_data/000000262145_mask.jpg')"
      ]
     },
     "execution_count": 17,
     "metadata": {},
     "output_type": "execute_result"
    }
   ],
   "source": [
    "map_paths('000000262145.jpg')"
   ]
  },
  {
   "cell_type": "code",
   "execution_count": 24,
   "metadata": {},
   "outputs": [],
   "source": [
    "annIds = coco.getAnnIds(imgIds=imgs[0]['id'], catIds=catIds, iscrowd=None)\n",
    "anns = coco.loadAnns(annIds)"
   ]
  },
  {
   "cell_type": "code",
   "execution_count": 26,
   "metadata": {},
   "outputs": [
    {
     "data": {
      "text/plain": [
       "0.07778834894613583"
      ]
     },
     "execution_count": 26,
     "metadata": {},
     "output_type": "execute_result"
    }
   ],
   "source": [
    "float(anns[0]['area'])/(427*640)"
   ]
  },
  {
   "cell_type": "code",
   "execution_count": 28,
   "metadata": {},
   "outputs": [
    {
     "data": {
      "text/plain": [
       "{'coco_url': 'http://images.cocodataset.org/train2017/000000262145.jpg',\n",
       " 'date_captured': '2013-11-20 02:07:55',\n",
       " 'file_name': '000000262145.jpg',\n",
       " 'flickr_url': 'http://farm8.staticflickr.com/7187/6967031859_5f08387bde_z.jpg',\n",
       " 'height': 427,\n",
       " 'id': 262145,\n",
       " 'license': 2,\n",
       " 'width': 640}"
      ]
     },
     "execution_count": 28,
     "metadata": {},
     "output_type": "execute_result"
    }
   ],
   "source": [
    "imgs[0]"
   ]
  },
  {
   "cell_type": "code",
   "execution_count": 44,
   "metadata": {},
   "outputs": [],
   "source": [
    "img = list(filter(lambda x: x['file_name'] == '000000395491.jpg', imgs))[0]"
   ]
  },
  {
   "cell_type": "code",
   "execution_count": 45,
   "metadata": {},
   "outputs": [
    {
     "data": {
      "text/plain": [
       "{'coco_url': 'http://images.cocodataset.org/train2017/000000395491.jpg',\n",
       " 'date_captured': '2013-11-20 14:26:48',\n",
       " 'file_name': '000000395491.jpg',\n",
       " 'flickr_url': 'http://farm1.staticflickr.com/27/51637427_733bb2def9_z.jpg',\n",
       " 'height': 480,\n",
       " 'id': 395491,\n",
       " 'license': 4,\n",
       " 'width': 640}"
      ]
     },
     "execution_count": 45,
     "metadata": {},
     "output_type": "execute_result"
    }
   ],
   "source": [
    "img"
   ]
  },
  {
   "cell_type": "code",
   "execution_count": 46,
   "metadata": {},
   "outputs": [],
   "source": [
    "annIds = coco.getAnnIds(imgIds=img['id'], catIds=catIds, iscrowd=None)\n",
    "anns = coco.loadAnns(annIds)"
   ]
  },
  {
   "cell_type": "code",
   "execution_count": 47,
   "metadata": {},
   "outputs": [
    {
     "name": "stdout",
     "output_type": "stream",
     "text": [
      "0.245908203125\n",
      "0.305755208333\n"
     ]
    }
   ],
   "source": [
    "for ann in anns:\n",
    "    mask = coco.annToMask(ann)\n",
    "    print((mask==1).sum()/len(mask.flatten()))"
   ]
  },
  {
   "cell_type": "code",
   "execution_count": null,
   "metadata": {},
   "outputs": [],
   "source": []
  }
 ],
 "metadata": {
  "kernelspec": {
   "display_name": "Python 3",
   "language": "python",
   "name": "python3"
  },
  "language_info": {
   "codemirror_mode": {
    "name": "ipython",
    "version": 3
   },
   "file_extension": ".py",
   "mimetype": "text/x-python",
   "name": "python",
   "nbconvert_exporter": "python",
   "pygments_lexer": "ipython3",
   "version": "3.6.3"
  }
 },
 "nbformat": 4,
 "nbformat_minor": 2
}
